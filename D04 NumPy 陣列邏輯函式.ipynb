{
 "cells": [
  {
   "cell_type": "code",
   "execution_count": 3,
   "metadata": {},
   "outputs": [],
   "source": [
    "import numpy as np\n",
    "\n",
    "english_score = np.array([55,89,76,65,48,70])\n",
    "math_score = np.array([60,85,60,68,55,60])\n",
    "chinese_score = np.array([65,90,82,72,66,77])"
   ]
  },
  {
   "cell_type": "code",
   "execution_count": 7,
   "metadata": {},
   "outputs": [
    {
     "name": "stdout",
     "output_type": "stream",
     "text": [
      "[False  True  True False False  True]\n",
      "3\n"
     ]
    }
   ],
   "source": [
    "#1.有多少學生英文成績比數學成績高?\n",
    "\n",
    "a = np.greater(english_score, math_score)\n",
    "print(a)\n",
    "print(np.sum(a))\n",
    "\n",
    "#答案: 3個"
   ]
  },
  {
   "cell_type": "code",
   "execution_count": 9,
   "metadata": {},
   "outputs": [
    {
     "name": "stdout",
     "output_type": "stream",
     "text": [
      "[ True  True  True  True  True  True]\n",
      "True\n"
     ]
    }
   ],
   "source": [
    "#2.是否全班同學最高分都是國文?\n",
    "\n",
    "np.greater(chinese_score, english_score)\n",
    "np.greater(chinese_score, math_score)\n",
    "\n",
    "x = np.greater(chinese_score, english_score)\n",
    "y = np.greater(chinese_score, math_score)\n",
    "\n",
    "print(np.logical_and(x, y))\n",
    "print(np.logical_and(x, y).any())\n",
    "\n",
    "#答案: 是"
   ]
  }
 ],
 "metadata": {
  "kernelspec": {
   "display_name": "Python 3",
   "language": "python",
   "name": "python3"
  },
  "language_info": {
   "codemirror_mode": {
    "name": "ipython",
    "version": 3
   },
   "file_extension": ".py",
   "mimetype": "text/x-python",
   "name": "python",
   "nbconvert_exporter": "python",
   "pygments_lexer": "ipython3",
   "version": "3.8.5"
  }
 },
 "nbformat": 4,
 "nbformat_minor": 4
}
