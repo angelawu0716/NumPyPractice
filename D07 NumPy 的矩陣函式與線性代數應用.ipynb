{
 "cells": [
  {
   "cell_type": "code",
   "execution_count": 1,
   "metadata": {},
   "outputs": [],
   "source": [
    "import numpy as np"
   ]
  },
  {
   "cell_type": "code",
   "execution_count": 17,
   "metadata": {},
   "outputs": [
    {
     "data": {
      "text/plain": [
       "array([[1., 0.],\n",
       "       [0., 1.]])"
      ]
     },
     "execution_count": 17,
     "metadata": {},
     "output_type": "execute_result"
    }
   ],
   "source": [
    "#1. 運用上列array計算反矩陣，乘上原矩陣，並觀察是否為單位矩陣?\n",
    "\n",
    "array1 = np.array([[10, 8], [3, 5]])\n",
    "\n",
    "array2 = np.linalg.inv(array1)\n",
    "\n",
    "np.dot(array2, array1)"
   ]
  },
  {
   "cell_type": "code",
   "execution_count": 13,
   "metadata": {},
   "outputs": [
    {
     "data": {
      "text/plain": [
       "array([13.,  2.])"
      ]
     },
     "execution_count": 13,
     "metadata": {},
     "output_type": "execute_result"
    }
   ],
   "source": [
    "#2. 運用上列array計算特徵值、特徵向量?\n",
    "\n",
    "w, v = np.linalg.eig(array1)\n",
    "\n",
    "# eigenvalues\n",
    "\n",
    "w"
   ]
  },
  {
   "cell_type": "code",
   "execution_count": 14,
   "metadata": {},
   "outputs": [
    {
     "data": {
      "text/plain": [
       "array([[ 0.93632918, -0.70710678],\n",
       "       [ 0.35112344,  0.70710678]])"
      ]
     },
     "execution_count": 14,
     "metadata": {},
     "output_type": "execute_result"
    }
   ],
   "source": [
    "#2. 運用上列array計算特徵值、特徵向量?\n",
    "\n",
    "w, v = np.linalg.eig(array1)\n",
    "\n",
    "# eigenvectors\n",
    "\n",
    "v"
   ]
  },
  {
   "cell_type": "code",
   "execution_count": 18,
   "metadata": {},
   "outputs": [
    {
     "data": {
      "text/plain": [
       "(array([[-0.91663818, -0.39971796],\n",
       "        [-0.39971796,  0.91663818]]),\n",
       " array([13.94721714,  1.86417116]),\n",
       " array([[-0.74319741, -0.6690722 ],\n",
       "        [-0.6690722 ,  0.74319741]]))"
      ]
     },
     "execution_count": 18,
     "metadata": {},
     "output_type": "execute_result"
    }
   ],
   "source": [
    "#3. 運用上列array計算SVD?\n",
    "\n",
    "np.linalg.svd(array1)"
   ]
  }
 ],
 "metadata": {
  "kernelspec": {
   "display_name": "Python 3",
   "language": "python",
   "name": "python3"
  },
  "language_info": {
   "codemirror_mode": {
    "name": "ipython",
    "version": 3
   },
   "file_extension": ".py",
   "mimetype": "text/x-python",
   "name": "python",
   "nbconvert_exporter": "python",
   "pygments_lexer": "ipython3",
   "version": "3.8.5"
  }
 },
 "nbformat": 4,
 "nbformat_minor": 4
}
